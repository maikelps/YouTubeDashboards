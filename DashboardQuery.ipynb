{
 "cells": [
  {
   "cell_type": "code",
   "execution_count": 1,
   "metadata": {},
   "outputs": [],
   "source": [
    "import os\n",
    "\n",
    "import pandas as pd\n",
    "import numpy as np\n",
    "import matplotlib.pyplot as plt\n",
    "from dateutil import parser\n",
    "\n",
    "import mysql.connector\n",
    "import json\n",
    "\n",
    "import warnings\n",
    "warnings.filterwarnings(\"ignore\")"
   ]
  },
  {
   "cell_type": "code",
   "execution_count": 2,
   "metadata": {},
   "outputs": [],
   "source": [
    "def get_deltas_channel( inputDF, list_of_channels ):\n",
    "\n",
    "    dfage = inputDF[['DaysDelta', 'CreatedOn','ChannelID']]\n",
    "\n",
    "    dfage['Age'] = pd.to_timedelta( dfage['DaysDelta'] - dfage['CreatedOn'] )/np.timedelta64(1,'D')\n",
    "    dfage['Age'] = dfage['Age']/365.25\n",
    "\n",
    "    dfage.drop(columns=['DaysDelta'], inplace=True)\n",
    "    dfage.set_index('ChannelID', append=True, inplace=True)\n",
    "\n",
    "    # To avoid duplication\n",
    "    inputDF.drop(columns=['CreatedOn'], inplace=True)\n",
    "\n",
    "    for i, channel in enumerate(list_of_channels):\n",
    "\n",
    "        # Formatting DF\n",
    "        helpDF = inputDF[ inputDF['ChannelID']==channel ].set_index(['ChannelID'], append=True)\n",
    "\n",
    "        # Getting Deltas\n",
    "        helpDF = helpDF - helpDF[['DaysDelta', 'views', 'subscribers', 'videoNr']].shift(1)\n",
    "        # Fixing Dates delta format\n",
    "        helpDF['DaysDelta'] = pd.to_timedelta(helpDF['DaysDelta'])/np.timedelta64(1,'D')\n",
    "\n",
    "        # Loop counter\n",
    "        if i==0:\n",
    "            outDF = helpDF.copy() # First time, create df\n",
    "        else:\n",
    "            outDF = outDF.append( helpDF ) # any other, append\n",
    "\n",
    "    # Adding the age by the momment of the extraction\n",
    "    outDF = dfage.merge( outDF, left_index=True, right_index=True, how='right' )\n",
    "\n",
    "    return outDF"
   ]
  },
  {
   "cell_type": "code",
   "execution_count": 3,
   "metadata": {},
   "outputs": [],
   "source": [
    "def anonymizer(df, col_name, prefix='ANON_'):\n",
    "\n",
    "    # Get unique values in column\n",
    "    unique_values = df[col_name].unique()\n",
    "\n",
    "    # Create a mapping dictionary of unique values to index strings\n",
    "    mapping = {}\n",
    "    for i, val in enumerate(unique_values):\n",
    "        index_str = prefix + str(i)\n",
    "        mapping[val] = index_str\n",
    "\n",
    "    return mapping"
   ]
  },
  {
   "cell_type": "code",
   "execution_count": 4,
   "metadata": {},
   "outputs": [],
   "source": [
    "# To store DB credentials\n",
    "cred = json.load(open('DBCredentials.json', 'r'))"
   ]
  },
  {
   "cell_type": "code",
   "execution_count": 5,
   "metadata": {},
   "outputs": [],
   "source": [
    "# To control anonimize\n",
    "get_ann = True"
   ]
  },
  {
   "attachments": {},
   "cell_type": "markdown",
   "metadata": {},
   "source": [
    "## Channel IDs"
   ]
  },
  {
   "cell_type": "code",
   "execution_count": 6,
   "metadata": {},
   "outputs": [],
   "source": [
    "# Connect to the database\n",
    "cnx = mysql.connector.connect(\n",
    "                                host=cred['host'],\n",
    "                                database=cred['name'],\n",
    "                                user=cred['user'],\n",
    "                                password=cred['pass'])\n",
    "\n",
    "query = \\\n",
    "            f\"\"\"\n",
    "            SELECT \n",
    "                ChannelID, \n",
    "                ChannelName\n",
    "            FROM \n",
    "                channel_details;\n",
    "            \"\"\"\n",
    "\n",
    "# Reading channels\n",
    "frChannels = pd.read_sql(query, cnx)\n",
    "\n",
    "if get_ann:\n",
    "    # Getting annonimizer names\n",
    "    ann_ch_names = anonymizer(frChannels, 'ChannelName', 'Channel_')\n",
    "    ann_ch_keys = anonymizer(frChannels, 'ChannelID', 'CH_ID_')\n",
    "    # Applying\n",
    "    frChannels = frChannels.assign( ChannelName = frChannels['ChannelName'].replace(ann_ch_names) )\\\n",
    "                           .assign( ChannelID = frChannels['ChannelID'].replace(ann_ch_keys) )\n",
    "\n",
    "cnx.close()\n",
    "\n",
    "frChannels.to_csv('Data/ChannelIDs.csv', index=False)"
   ]
  },
  {
   "attachments": {},
   "cell_type": "markdown",
   "metadata": {},
   "source": [
    "## Check evolution"
   ]
  },
  {
   "cell_type": "code",
   "execution_count": 7,
   "metadata": {},
   "outputs": [],
   "source": [
    "def deltas( frame, feature ):\n",
    "    \"\"\"\n",
    "    Extract the differences between lags for a determined feature.\n",
    "    \"\"\"\n",
    "    \n",
    "    fr = frame[['ExtractionDay', feature]].reset_index()\n",
    "    fr = fr.pivot(index=['ExtractionDay'], columns=['ChannelName'])\n",
    "    \n",
    "    # Clean Column Names\n",
    "    fr.columns = [ ch_name for (feat, ch_name) in fr.columns ]\n",
    "\n",
    "    # Dict for variations\n",
    "    variations = {}\n",
    "\n",
    "    for chann in fr.columns:\n",
    "        #print(chann)\n",
    "\n",
    "        # Copy Time-Series\n",
    "        variations[ chann ] = fr[[chann]].copy()\n",
    "\n",
    "        # Shifting\n",
    "        variations[ chann ]['Shift'] = variations[ chann ].shift()\n",
    "\n",
    "        # Creating percentage diff\n",
    "        variations[ chann ]['PercChange'] = variations[ chann ][chann].pct_change()\n",
    "\n",
    "        # Check for NetDifferences in the timeline\n",
    "        variations[ chann ]['NetDiff'] = variations[ chann ][chann] - variations[ chann ]['Shift']\n",
    "\n",
    "        # Creating channel name column\n",
    "        variations[ chann ]['YtChan'] = chann\n",
    "\n",
    "        # Keeping only Variations\n",
    "        variations[ chann ] = variations[ chann ][['YtChan', 'NetDiff', 'PercChange']]\n",
    "\n",
    "    # Saving in unique dataframe\n",
    "    fr_fin = pd.DataFrame()\n",
    "    for K in variations.keys():\n",
    "        fr_fin = fr_fin.append( variations[K] )\n",
    "\n",
    "    return fr_fin\n"
   ]
  },
  {
   "attachments": {},
   "cell_type": "markdown",
   "metadata": {},
   "source": [
    "Channel Level"
   ]
  },
  {
   "cell_type": "code",
   "execution_count": 8,
   "metadata": {},
   "outputs": [],
   "source": [
    "# Connect to the database\n",
    "cnx = mysql.connector.connect(\n",
    "                                host=cred['host'],\n",
    "                                database=cred['name'],\n",
    "                                user=cred['user'],\n",
    "                                password=cred['pass'])\n",
    "\n",
    "# Querying every atrribute and appending into a single DF\n",
    "#dfch = pd.DataFrame(columns=['ChannelName', 'ExtractionDay', 'Attribute', 'Value'])\n",
    "\n",
    "query = \\\n",
    "            f\"\"\"\n",
    "            SELECT \n",
    "                channel_details.ChannelID, \n",
    "                ExtractionDay,\n",
    "                ExtractionDay as DaysDelta,\n",
    "                CreatedOn,\n",
    "                channel_evolution.views,\n",
    "                channel_evolution.subscribers,\n",
    "                channel_evolution.videoNr\n",
    "            FROM channel_evolution\n",
    "            LEFT JOIN channel_details\n",
    "            ON channel_evolution.ChannelID = channel_details.ChannelID;\n",
    "            \"\"\"\n",
    "\n",
    "dfch = pd.read_sql(query, cnx)\n",
    "dfch.set_index(['ExtractionDay'], inplace=True)\n",
    "\n",
    "if get_ann:\n",
    "    # Applying Anonimize\n",
    "    dfch = dfch.assign( ChannelID = dfch['ChannelID'].replace(ann_ch_keys) )\n",
    "\n",
    "cnx.close()\n",
    "\n",
    "#dfch"
   ]
  },
  {
   "cell_type": "code",
   "execution_count": 9,
   "metadata": {},
   "outputs": [],
   "source": [
    "dfchd = get_deltas_channel( dfch.copy(), dfch['ChannelID'].unique().tolist() )\n",
    "#dfchd"
   ]
  },
  {
   "cell_type": "code",
   "execution_count": 10,
   "metadata": {},
   "outputs": [],
   "source": [
    "dfch_act = dfch.drop(columns=['DaysDelta']).set_index(['ChannelID','CreatedOn'], append=True).stack().to_frame().rename(columns={0:'Actuals'}).copy()\n",
    "#dfch_act"
   ]
  },
  {
   "cell_type": "code",
   "execution_count": 11,
   "metadata": {},
   "outputs": [],
   "source": [
    "# Mergin both DFs\n",
    "dfchd_act = dfchd.set_index('CreatedOn', append=True).stack().to_frame().rename(columns={0:'Evolution'})#.copy()\n",
    "#dfchd_act"
   ]
  },
  {
   "cell_type": "code",
   "execution_count": 12,
   "metadata": {},
   "outputs": [],
   "source": [
    "# Mergin attributes like subs, views and vids into a single table\n",
    "dfchf = dfch_act.merge( dfchd_act, left_index=True, right_index=True, how='outer' )\n",
    "dfchf.index.names = ['ExtractionDay', 'ChannelID', 'CreatedOn', 'Attribute']\n",
    "\n",
    "#dfchf"
   ]
  },
  {
   "cell_type": "code",
   "execution_count": 13,
   "metadata": {},
   "outputs": [],
   "source": [
    "# Mergin evolutions and actuals under a single column\n",
    "dfchf = dfchf.stack().to_frame().rename(columns={0:'Values'})\n",
    "dfchf.index.names = ['ExtractionDay', 'ChannelID', 'CreatedOn', 'Attribute', 'AnalysisType']\n",
    "#dfchf"
   ]
  },
  {
   "cell_type": "code",
   "execution_count": 14,
   "metadata": {},
   "outputs": [],
   "source": [
    "dfchf.to_csv('Data/ChannelLevel_OverTime.csv')#ann_ch_names"
   ]
  },
  {
   "attachments": {},
   "cell_type": "markdown",
   "metadata": {},
   "source": [
    "## Video Level"
   ]
  },
  {
   "cell_type": "code",
   "execution_count": 15,
   "metadata": {},
   "outputs": [],
   "source": [
    "# video_statics | video_variables\n",
    "# Connect to the database\n",
    "cnx = mysql.connector.connect(\n",
    "                                host=cred['host'],\n",
    "                                database=cred['name'],\n",
    "                                user=cred['user'],\n",
    "                                password=cred['pass'])\n",
    "\n",
    "query = \\\n",
    "            f\"\"\"\n",
    "            SELECT\n",
    "                video_statics.ChannelID,\n",
    "                video_statics.video_id,\n",
    "                video_statics.CreatedOn,\n",
    "                video_statics.title,\n",
    "                video_statics.duration/60 AS Minutes,\n",
    "                video_statics.descr\n",
    "            FROM\n",
    "                video_statics\n",
    "                ;\n",
    "            \"\"\"\n",
    "\n",
    "frvids = pd.read_sql(query, cnx)\n",
    "\n",
    "if get_ann:\n",
    "    # Getting annonimizer dictionaries\n",
    "    ann_video_keys = anonymizer(frvids, 'video_id', 'CH_ID_')\n",
    "    ann_video_titles = anonymizer(frvids, 'title', 'video_title_')\n",
    "    ann_video_descr = anonymizer(frvids, 'descr', 'video_descr_')\n",
    "\n",
    "    # Applying\n",
    "    frvids = frvids.pipe(lambda _df: _df.assign(**{ column : _df[column].replace(mapping) for column, mapping in zip(['video_id', 'title', 'descr', 'ChannelID'], [ann_video_keys, ann_video_titles, ann_video_descr, ann_ch_keys]) }) )\n",
    "\n",
    "frvids.to_csv('Data/VideoIDs.csv', index=False, sep=\"\\t\")\n",
    "\n",
    "cnx.close()\n",
    "\n",
    "#frvids"
   ]
  },
  {
   "attachments": {},
   "cell_type": "markdown",
   "metadata": {},
   "source": [
    "### Video Evolution"
   ]
  },
  {
   "cell_type": "code",
   "execution_count": 16,
   "metadata": {},
   "outputs": [],
   "source": [
    "# video_statics | video_variables\n",
    "# Connect to the database\n",
    "cnx = mysql.connector.connect(\n",
    "                                host=cred['host'],\n",
    "                                database=cred['name'],\n",
    "                                user=cred['user'],\n",
    "                                password=cred['pass'])\n",
    "\n",
    "query = \\\n",
    "            f\"\"\"\n",
    "            SELECT \n",
    "                video_statics.ChannelID,\n",
    "                video_variables.video_id,\n",
    "                video_variables.ExtractionDay,\n",
    "                video_variables.viewCount,\n",
    "                video_variables.likeCount,\n",
    "                video_variables.commentCount,\n",
    "                (DATEDIFF(video_variables.ExtractionDay, video_statics.CreatedOn)) AS VideoAge\n",
    "            FROM \n",
    "                video_variables\n",
    "            LEFT JOIN \n",
    "                video_statics\n",
    "            ON \n",
    "                video_variables.video_id = video_statics.video_id\n",
    "            ORDER BY \n",
    "                video_variables.ExtractionDay ASC, \n",
    "                video_statics.CreatedOn ASC;\n",
    "            \"\"\"\n",
    " \n",
    "fr = pd.read_sql(query, cnx)\n",
    "\n",
    "if get_ann:\n",
    "    # Applying anonimization\n",
    "    fr = fr.pipe(lambda _df: _df.assign(**{ column : _df[column].replace(mapping) for column, mapping in zip(['ChannelID', 'video_id'], [ann_ch_keys, ann_video_keys]) }) )\n",
    "\n",
    "# Set index\n",
    "fr = fr.set_index(['ChannelID', 'ExtractionDay', 'video_id'])\n",
    "\n",
    "cnx.close()\n",
    "\n",
    "#fr"
   ]
  },
  {
   "cell_type": "code",
   "execution_count": 17,
   "metadata": {},
   "outputs": [],
   "source": [
    "videos_dfs = []\n",
    "\n",
    "# Getting all unique videos IDs\n",
    "all_vids_id = fr.index.get_level_values('video_id').unique()\n",
    "\n",
    "for vid in all_vids_id:\n",
    "    # Gets the details for the video level\n",
    "    video_frame = fr.xs(vid, level=2)\n",
    "    #print(vid)\n",
    "\n",
    "    # Gets shift\n",
    "    video_frame_shifted = video_frame - video_frame.shift(1)\n",
    "    video_frame_shifted = video_frame_shifted.dropna() \\\n",
    "                                             .assign( video_id = vid ) \\\n",
    "                                             .set_index(['video_id'], append=True) \\\n",
    "                                             .stack() \\\n",
    "                                             .reset_index() \\\n",
    "                                             .rename(columns={'level_3':'Attribute', 0:'Evolution'}) \\\n",
    "                                             .set_index(['ChannelID', 'ExtractionDay', 'video_id', 'Attribute'])\n",
    "\n",
    "    #Actuals\n",
    "    video_frame = video_frame.assign( video_id = vid ) \\\n",
    "                             .set_index(['video_id'], append=True) \\\n",
    "                             .stack() \\\n",
    "                             .reset_index() \\\n",
    "                             .rename(columns={'level_3':'Attribute', 0:'Actuals'}) \\\n",
    "                             .set_index(['ChannelID', 'ExtractionDay', 'video_id', 'Attribute'])\n",
    "\n",
    "    # Final Reporting\n",
    "    df_vid = video_frame.merge( video_frame_shifted, left_index=True, right_index=True, how='left' ) \\\n",
    "                        .stack() \\\n",
    "                        .reset_index(level=4) \\\n",
    "                        .rename(columns={'level_4':'AnalysisType', 0:'Values'})\n",
    "\n",
    "    # Append in list\n",
    "    videos_dfs.append( df_vid )\n",
    "\n",
    "dumpFr = pd.concat( videos_dfs, ignore_index=False )"
   ]
  },
  {
   "cell_type": "code",
   "execution_count": null,
   "metadata": {},
   "outputs": [],
   "source": [
    "dumpFr.to_csv('Data/VideoLevel_OverTime.csv')"
   ]
  },
  {
   "cell_type": "code",
   "execution_count": null,
   "metadata": {},
   "outputs": [],
   "source": []
  }
 ],
 "metadata": {
  "kernelspec": {
   "display_name": "Python 3.8.5 ('base')",
   "language": "python",
   "name": "python3"
  },
  "language_info": {
   "codemirror_mode": {
    "name": "ipython",
    "version": 3
   },
   "file_extension": ".py",
   "mimetype": "text/x-python",
   "name": "python",
   "nbconvert_exporter": "python",
   "pygments_lexer": "ipython3",
   "version": "3.11.2"
  },
  "orig_nbformat": 4,
  "vscode": {
   "interpreter": {
    "hash": "e46fe3d32c0241ff88d20caa6e4b6d17b62e00d50114aa50eeb2079f8857cc3c"
   }
  }
 },
 "nbformat": 4,
 "nbformat_minor": 2
}
