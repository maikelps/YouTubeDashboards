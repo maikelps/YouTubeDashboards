{
 "cells": [
  {
   "cell_type": "code",
   "execution_count": 1,
   "metadata": {},
   "outputs": [],
   "source": [
    "import os\n",
    "\n",
    "import pandas as pd\n",
    "import numpy as np\n",
    "import matplotlib.pyplot as plt\n",
    "from dateutil import parser\n",
    "\n",
    "import mysql.connector\n",
    "\n",
    "# Functions\n",
    "from uploadDB import insert_channel_in_DB, remove_emojis, remove_links_and_line_jumps, remove_accents, clean_video_statics, video_tables_db_upload\n",
    "\n",
    "import warnings\n",
    "warnings.filterwarnings(\"ignore\")"
   ]
  },
  {
   "attachments": {},
   "cell_type": "markdown",
   "metadata": {},
   "source": [
    "# Getting the files in the folder:"
   ]
  },
  {
   "cell_type": "code",
   "execution_count": 2,
   "metadata": {},
   "outputs": [],
   "source": [
    "sheets = ['channel_evolution', 'video_statics', 'video_variables']"
   ]
  },
  {
   "cell_type": "code",
   "execution_count": 3,
   "metadata": {},
   "outputs": [
    {
     "name": "stdout",
     "output_type": "stream",
     "text": [
      "Extraction_2023-05-02.xlsx\n",
      "Extraction_2023-05-03.xlsx\n",
      "Extraction_2023-05-05.xlsx\n",
      "Extraction_2023-05-08.xlsx\n",
      "Extraction_2023-05-09.xlsx\n",
      "Extraction_2023-05-10.xlsx\n",
      "Extraction_2023-05-11.xlsx\n",
      "Extraction_2023-05-12.xlsx\n",
      "Extraction_2023-05-15.xlsx\n",
      "Extraction_2023-05-16.xlsx\n",
      "Extraction_2023-05-17.xlsx\n",
      "Extraction_2023-05-18.xlsx\n",
      "Extraction_2023-05-19.xlsx\n",
      "Extraction_2023-05-23.xlsx\n",
      "Extraction_2023-05-24.xlsx\n",
      "Extraction_2023-05-25.xlsx\n",
      "Extraction_2023-05-26.xlsx\n"
     ]
    }
   ],
   "source": [
    "# The list of items\n",
    "files = os.listdir(\"./extractions\")\n",
    " \n",
    "# Loop to print each filename separately\n",
    "for filename in files:\n",
    "    print(filename)"
   ]
  },
  {
   "cell_type": "code",
   "execution_count": 4,
   "metadata": {},
   "outputs": [
    {
     "name": "stdout",
     "output_type": "stream",
     "text": [
      "Extraction_2023-05-02.xlsx\n",
      "---> channel_evolution\n",
      "---> video_statics\n",
      "---> video_variables\n",
      "Extraction_2023-05-03.xlsx\n",
      "---> channel_evolution\n",
      "---> video_statics\n",
      "---> video_variables\n",
      "Extraction_2023-05-05.xlsx\n",
      "---> channel_evolution\n",
      "---> video_statics\n",
      "---> video_variables\n",
      "Extraction_2023-05-08.xlsx\n",
      "---> channel_evolution\n",
      "---> video_statics\n",
      "---> video_variables\n",
      "Extraction_2023-05-09.xlsx\n",
      "---> channel_evolution\n",
      "---> video_statics\n",
      "---> video_variables\n",
      "Extraction_2023-05-10.xlsx\n",
      "---> channel_evolution\n",
      "---> video_statics\n",
      "---> video_variables\n",
      "Extraction_2023-05-11.xlsx\n",
      "---> channel_evolution\n",
      "---> video_statics\n",
      "---> video_variables\n",
      "Extraction_2023-05-12.xlsx\n",
      "---> channel_evolution\n",
      "---> video_statics\n",
      "---> video_variables\n",
      "Extraction_2023-05-15.xlsx\n",
      "---> channel_evolution\n",
      "---> video_statics\n",
      "---> video_variables\n",
      "Extraction_2023-05-16.xlsx\n",
      "---> channel_evolution\n",
      "---> video_statics\n",
      "---> video_variables\n",
      "Extraction_2023-05-17.xlsx\n",
      "---> channel_evolution\n",
      "---> video_statics\n",
      "---> video_variables\n",
      "Extraction_2023-05-18.xlsx\n",
      "---> channel_evolution\n",
      "---> video_statics\n",
      "---> video_variables\n",
      "Extraction_2023-05-19.xlsx\n",
      "---> channel_evolution\n",
      "---> video_statics\n",
      "---> video_variables\n",
      "Extraction_2023-05-23.xlsx\n",
      "---> channel_evolution\n",
      "---> video_statics\n",
      "---> video_variables\n",
      "Extraction_2023-05-24.xlsx\n",
      "---> channel_evolution\n",
      "---> video_statics\n",
      "---> video_variables\n",
      "Extraction_2023-05-25.xlsx\n",
      "---> channel_evolution\n",
      "---> video_statics\n",
      "---> video_variables\n",
      "Extraction_2023-05-26.xlsx\n",
      "---> channel_evolution\n",
      "---> video_statics\n",
      "---> video_variables\n"
     ]
    }
   ],
   "source": [
    "# Reading each file in dict\n",
    "dump = {}\n",
    "\n",
    "for i,filename in enumerate(files):\n",
    "\n",
    "    print(filename)\n",
    "\n",
    "    for sheet in sheets:\n",
    "\n",
    "        print('--->', sheet)\n",
    "\n",
    "        # First Read\n",
    "        if i == 0:\n",
    "            dump[sheet] = pd.read_excel('extractions/' + filename, sheet_name=sheet, index_col=[0])\n",
    "        else:\n",
    "            helpDF = pd.read_excel('extractions/' + filename, sheet_name=sheet,index_col=[0])\n",
    "\n",
    "            dump[sheet] = pd.concat([dump[sheet], helpDF], ignore_index=False)"
   ]
  },
  {
   "cell_type": "code",
   "execution_count": 5,
   "metadata": {},
   "outputs": [
    {
     "name": "stdout",
     "output_type": "stream",
     "text": [
      "Inserted: channel_evolution\n"
     ]
    }
   ],
   "source": [
    "insert_channel_in_DB(dump, chop_details = True)"
   ]
  },
  {
   "attachments": {},
   "cell_type": "markdown",
   "metadata": {},
   "source": [
    "Video Level"
   ]
  },
  {
   "cell_type": "code",
   "execution_count": 6,
   "metadata": {},
   "outputs": [],
   "source": [
    "dump2 = {\n",
    "    'video_statics' : dump['video_statics'].reset_index().copy(),\n",
    "    'video_variables' : dump['video_variables'].reset_index().copy()\n",
    "}\n",
    "\n",
    "# Keeping only one version of the extractions\n",
    "dump2['video_statics'].drop_duplicates(subset=['ChannelID','video_id','CreatedOn'], keep='first', inplace=True)\n",
    "dump2['video_statics'].drop_duplicates(subset=['ChannelID','video_id'], keep='first', inplace=True)"
   ]
  },
  {
   "cell_type": "code",
   "execution_count": 7,
   "metadata": {},
   "outputs": [],
   "source": [
    "# Get all the video_statics already in the DB to clean\n",
    "\n",
    "# Connect to the database\n",
    "cnx = mysql.connector.connect(host='localhost',\n",
    "                                        database='youtubeproject',\n",
    "                                        user='root',\n",
    "                                        password='optim123*')\n",
    "\n",
    "sql_query = \"\"\"SELECT video_id from video_statics\"\"\"\n",
    "frstatics = pd.read_sql(sql_query, cnx)\n",
    "vids_in_statics = frstatics['video_id'].to_list()\n",
    "\n",
    "cnx.close()\n",
    "\n",
    "# Filtering\n",
    "cleaning_mask = ~dump2['video_statics']['video_id'].isin( vids_in_statics )\n",
    "\n",
    "dump2['video_statics'] = dump2['video_statics'][cleaning_mask]\n",
    "#dump2['video_statics']"
   ]
  },
  {
   "cell_type": "code",
   "execution_count": 8,
   "metadata": {},
   "outputs": [],
   "source": [
    "# cleaning here instead on function\n",
    "dump2['video_statics']['title'] = dump2['video_statics']['title'].apply(remove_emojis).apply(remove_links_and_line_jumps).apply(remove_accents)\n",
    "dump2['video_statics']['descr'] = dump2['video_statics']['descr'].astype(str).apply(remove_emojis).apply(remove_links_and_line_jumps).apply(remove_accents)\n",
    "\n",
    "#dump2['video_statics']"
   ]
  },
  {
   "cell_type": "code",
   "execution_count": 9,
   "metadata": {},
   "outputs": [
    {
     "name": "stdout",
     "output_type": "stream",
     "text": [
      "Inserting: video_statics...\n",
      "Inserted: video_statics\n",
      "Inserting: video_variables...\n",
      "Inserted: video_variables\n"
     ]
    }
   ],
   "source": [
    "video_tables_db_upload( dump2 )"
   ]
  },
  {
   "cell_type": "code",
   "execution_count": null,
   "metadata": {},
   "outputs": [],
   "source": []
  }
 ],
 "metadata": {
  "kernelspec": {
   "display_name": "base",
   "language": "python",
   "name": "python3"
  },
  "language_info": {
   "codemirror_mode": {
    "name": "ipython",
    "version": 3
   },
   "file_extension": ".py",
   "mimetype": "text/x-python",
   "name": "python",
   "nbconvert_exporter": "python",
   "pygments_lexer": "ipython3",
   "version": "3.11.2"
  },
  "orig_nbformat": 4,
  "vscode": {
   "interpreter": {
    "hash": "e46fe3d32c0241ff88d20caa6e4b6d17b62e00d50114aa50eeb2079f8857cc3c"
   }
  }
 },
 "nbformat": 4,
 "nbformat_minor": 2
}
