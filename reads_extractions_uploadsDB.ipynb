{
 "cells": [
  {
   "cell_type": "code",
   "execution_count": 1,
   "metadata": {},
   "outputs": [],
   "source": [
    "import os\n",
    "\n",
    "import pandas as pd\n",
    "import numpy as np\n",
    "import matplotlib.pyplot as plt\n",
    "from dateutil import parser\n",
    "\n",
    "import mysql.connector\n",
    "\n",
    "# Functions\n",
    "from uploadDB import insert_channel_in_DB, remove_emojis, remove_links_and_line_jumps, remove_accents, clean_video_statics, video_tables_db_upload"
   ]
  },
  {
   "attachments": {},
   "cell_type": "markdown",
   "metadata": {},
   "source": [
    "# Getting the files in the folder:"
   ]
  },
  {
   "cell_type": "code",
   "execution_count": 2,
   "metadata": {},
   "outputs": [],
   "source": [
    "sheets = ['channel_evolution', 'video_statics', 'video_variables']"
   ]
  },
  {
   "cell_type": "code",
   "execution_count": 3,
   "metadata": {},
   "outputs": [
    {
     "name": "stdout",
     "output_type": "stream",
     "text": [
      "Extraction_2023-04-17.xlsx\n",
      "Extraction_2023-04-18.xlsx\n",
      "Extraction_2023-04-19.xlsx\n",
      "Extraction_2023-04-20.xlsx\n",
      "Extraction_2023-04-21.xlsx\n",
      "Extraction_2023-04-24.xlsx\n",
      "Extraction_2023-04-26.xlsx\n",
      "Extraction_2023-04-27.xlsx\n",
      "Extraction_2023-04-28.xlsx\n",
      "Extraction_2023-05-01.xlsx\n"
     ]
    }
   ],
   "source": [
    "# The list of items\n",
    "files = os.listdir(\"./extractions\")\n",
    " \n",
    "# Loop to print each filename separately\n",
    "for filename in files:\n",
    "    print(filename)"
   ]
  },
  {
   "cell_type": "code",
   "execution_count": 4,
   "metadata": {},
   "outputs": [
    {
     "name": "stdout",
     "output_type": "stream",
     "text": [
      "Extraction_2023-04-17.xlsx\n",
      "---> channel_evolution\n",
      "---> video_statics\n",
      "---> video_variables\n",
      "Extraction_2023-04-18.xlsx\n",
      "---> channel_evolution\n",
      "---> video_statics\n",
      "---> video_variables\n",
      "Extraction_2023-04-19.xlsx\n",
      "---> channel_evolution\n",
      "---> video_statics\n",
      "---> video_variables\n",
      "Extraction_2023-04-20.xlsx\n",
      "---> channel_evolution\n",
      "---> video_statics\n",
      "---> video_variables\n",
      "Extraction_2023-04-21.xlsx\n",
      "---> channel_evolution\n",
      "---> video_statics\n",
      "---> video_variables\n",
      "Extraction_2023-04-24.xlsx\n",
      "---> channel_evolution\n",
      "---> video_statics\n",
      "---> video_variables\n",
      "Extraction_2023-04-26.xlsx\n",
      "---> channel_evolution\n",
      "---> video_statics\n",
      "---> video_variables\n",
      "Extraction_2023-04-27.xlsx\n",
      "---> channel_evolution\n",
      "---> video_statics\n",
      "---> video_variables\n",
      "Extraction_2023-04-28.xlsx\n",
      "---> channel_evolution\n",
      "---> video_statics\n",
      "---> video_variables\n",
      "Extraction_2023-05-01.xlsx\n",
      "---> channel_evolution\n",
      "---> video_statics\n",
      "---> video_variables\n"
     ]
    }
   ],
   "source": [
    "# Reading each file in dict\n",
    "dump = {}\n",
    "\n",
    "for i,filename in enumerate(files):\n",
    "\n",
    "    print(filename)\n",
    "\n",
    "    for sheet in sheets:\n",
    "\n",
    "        print('--->', sheet)\n",
    "\n",
    "        # First Read\n",
    "        if i == 0:\n",
    "            dump[sheet] = pd.read_excel('extractions/' + filename, sheet_name=sheet, index_col=[0])\n",
    "        else:\n",
    "            helpDF = pd.read_excel('extractions/' + filename, sheet_name=sheet,index_col=[0])\n",
    "\n",
    "            dump[sheet] = pd.concat([dump[sheet], helpDF], ignore_index=False)"
   ]
  },
  {
   "cell_type": "code",
   "execution_count": 5,
   "metadata": {},
   "outputs": [
    {
     "name": "stdout",
     "output_type": "stream",
     "text": [
      "Inserted: channel_evolution\n"
     ]
    }
   ],
   "source": [
    "insert_channel_in_DB(dump, chop_details = True)"
   ]
  },
  {
   "attachments": {},
   "cell_type": "markdown",
   "metadata": {},
   "source": [
    "Video Level"
   ]
  },
  {
   "cell_type": "code",
   "execution_count": 6,
   "metadata": {},
   "outputs": [],
   "source": [
    "dump2 = {\n",
    "    'video_statics' : dump['video_statics'].reset_index().copy(),\n",
    "    'video_variables' : dump['video_variables'].reset_index().copy()\n",
    "}\n",
    "\n",
    "# Keeping only one version of the extractions\n",
    "dump2['video_statics'].drop_duplicates(subset=['ChannelID','video_id','CreatedOn'], keep='first', inplace=True)\n",
    "dump2['video_statics'].drop_duplicates(subset=['ChannelID','video_id'], keep='first', inplace=True)"
   ]
  },
  {
   "cell_type": "code",
   "execution_count": 7,
   "metadata": {},
   "outputs": [
    {
     "name": "stderr",
     "output_type": "stream",
     "text": [
      "C:\\Users\\maike\\AppData\\Local\\Temp\\ipykernel_17112\\3968575264.py:10: UserWarning: pandas only supports SQLAlchemy connectable (engine/connection) or database string URI or sqlite3 DBAPI2 connection. Other DBAPI2 objects are not tested. Please consider using SQLAlchemy.\n",
      "  frstatics = pd.read_sql(sql_query, cnx)\n"
     ]
    },
    {
     "data": {
      "text/html": [
       "<div>\n",
       "<style scoped>\n",
       "    .dataframe tbody tr th:only-of-type {\n",
       "        vertical-align: middle;\n",
       "    }\n",
       "\n",
       "    .dataframe tbody tr th {\n",
       "        vertical-align: top;\n",
       "    }\n",
       "\n",
       "    .dataframe thead th {\n",
       "        text-align: right;\n",
       "    }\n",
       "</style>\n",
       "<table border=\"1\" class=\"dataframe\">\n",
       "  <thead>\n",
       "    <tr style=\"text-align: right;\">\n",
       "      <th></th>\n",
       "      <th>ChannelID</th>\n",
       "      <th>video_id</th>\n",
       "      <th>CreatedOn</th>\n",
       "      <th>title</th>\n",
       "      <th>descr</th>\n",
       "      <th>duration</th>\n",
       "    </tr>\n",
       "  </thead>\n",
       "  <tbody>\n",
       "    <tr>\n",
       "      <th>0</th>\n",
       "      <td>UCo8ifS6JKfDqV33pwAMeV0Q</td>\n",
       "      <td>biFmKCvch0o</td>\n",
       "      <td>2023-04-17</td>\n",
       "      <td>🔥ESTRENO🔥 15 REGLAS para HOMBRES 😎 Nacho Redon...</td>\n",
       "      <td>00:00:00 Introducción\\n00:01:27 Nacho Redondo ...</td>\n",
       "      <td>4506</td>\n",
       "    </tr>\n",
       "    <tr>\n",
       "      <th>1</th>\n",
       "      <td>UCo8ifS6JKfDqV33pwAMeV0Q</td>\n",
       "      <td>fV0W-G5SlY4</td>\n",
       "      <td>2023-04-16</td>\n",
       "      <td>Cuando Adidas te manda regalos.</td>\n",
       "      <td>NaN</td>\n",
       "      <td>60</td>\n",
       "    </tr>\n",
       "    <tr>\n",
       "      <th>600</th>\n",
       "      <td>UCYbtAAKfp11tWhTjEcrvyAQ</td>\n",
       "      <td>cXVVZyYdlSg</td>\n",
       "      <td>2023-04-16</td>\n",
       "      <td>La revancha con Irrael ¿quién fue el campeón d...</td>\n",
       "      <td>Esto se descontroló. Aún no nos recuperamos de...</td>\n",
       "      <td>4839</td>\n",
       "    </tr>\n",
       "    <tr>\n",
       "      <th>601</th>\n",
       "      <td>UCYbtAAKfp11tWhTjEcrvyAQ</td>\n",
       "      <td>mzbXuLH_kVw</td>\n",
       "      <td>2023-04-15</td>\n",
       "      <td>Entregados a EntreGrados EP 02 | Versión madre...</td>\n",
       "      <td>¿Te imaginas beber con tu mamá? O al revés ¿be...</td>\n",
       "      <td>1262</td>\n",
       "    </tr>\n",
       "    <tr>\n",
       "      <th>1074</th>\n",
       "      <td>UC7Iabt-Qo5I5c8-cnwTHiWg</td>\n",
       "      <td>8HDIcLQcbxE</td>\n",
       "      <td>2023-04-14</td>\n",
       "      <td>Labias De Parrilla: Los Relojes | 021</td>\n",
       "      <td>En este episodio hablamos del origen y el func...</td>\n",
       "      <td>855</td>\n",
       "    </tr>\n",
       "    <tr>\n",
       "      <th>...</th>\n",
       "      <td>...</td>\n",
       "      <td>...</td>\n",
       "      <td>...</td>\n",
       "      <td>...</td>\n",
       "      <td>...</td>\n",
       "      <td>...</td>\n",
       "    </tr>\n",
       "    <tr>\n",
       "      <th>38522</th>\n",
       "      <td>UCZbq1qvbQzxDGUyuoPnF4LQ</td>\n",
       "      <td>cVY8c1esbIc</td>\n",
       "      <td>2023-04-29</td>\n",
       "      <td>¿Cuánto costaría nuestro s3m3n?</td>\n",
       "      <td>NaN</td>\n",
       "      <td>42</td>\n",
       "    </tr>\n",
       "    <tr>\n",
       "      <th>38523</th>\n",
       "      <td>UCZbq1qvbQzxDGUyuoPnF4LQ</td>\n",
       "      <td>QQ9M8JlfTIc</td>\n",
       "      <td>2023-04-29</td>\n",
       "      <td>¿Qué es un NPC?</td>\n",
       "      <td>NaN</td>\n",
       "      <td>48</td>\n",
       "    </tr>\n",
       "    <tr>\n",
       "      <th>38524</th>\n",
       "      <td>UCZbq1qvbQzxDGUyuoPnF4LQ</td>\n",
       "      <td>0mgaxFplwhA</td>\n",
       "      <td>2023-04-28</td>\n",
       "      <td>Quién es ADOPTADO en #escueladenada</td>\n",
       "      <td>NaN</td>\n",
       "      <td>43</td>\n",
       "    </tr>\n",
       "    <tr>\n",
       "      <th>38525</th>\n",
       "      <td>UCZbq1qvbQzxDGUyuoPnF4LQ</td>\n",
       "      <td>azE8FGFPUEE</td>\n",
       "      <td>2023-04-28</td>\n",
       "      <td>Ser CULERO por no compartir mi comida</td>\n",
       "      <td>NaN</td>\n",
       "      <td>52</td>\n",
       "    </tr>\n",
       "    <tr>\n",
       "      <th>39148</th>\n",
       "      <td>UC7Iabt-Qo5I5c8-cnwTHiWg</td>\n",
       "      <td>EE0Ng8rikXc</td>\n",
       "      <td>2023-04-28</td>\n",
       "      <td>Labias De Parrilla: Los hoteles | 023</td>\n",
       "      <td>En este episodio hablamos sobre los hoteles y ...</td>\n",
       "      <td>796</td>\n",
       "    </tr>\n",
       "  </tbody>\n",
       "</table>\n",
       "<p>93 rows × 6 columns</p>\n",
       "</div>"
      ],
      "text/plain": [
       "                      ChannelID     video_id  CreatedOn  \\\n",
       "0      UCo8ifS6JKfDqV33pwAMeV0Q  biFmKCvch0o 2023-04-17   \n",
       "1      UCo8ifS6JKfDqV33pwAMeV0Q  fV0W-G5SlY4 2023-04-16   \n",
       "600    UCYbtAAKfp11tWhTjEcrvyAQ  cXVVZyYdlSg 2023-04-16   \n",
       "601    UCYbtAAKfp11tWhTjEcrvyAQ  mzbXuLH_kVw 2023-04-15   \n",
       "1074   UC7Iabt-Qo5I5c8-cnwTHiWg  8HDIcLQcbxE 2023-04-14   \n",
       "...                         ...          ...        ...   \n",
       "38522  UCZbq1qvbQzxDGUyuoPnF4LQ  cVY8c1esbIc 2023-04-29   \n",
       "38523  UCZbq1qvbQzxDGUyuoPnF4LQ  QQ9M8JlfTIc 2023-04-29   \n",
       "38524  UCZbq1qvbQzxDGUyuoPnF4LQ  0mgaxFplwhA 2023-04-28   \n",
       "38525  UCZbq1qvbQzxDGUyuoPnF4LQ  azE8FGFPUEE 2023-04-28   \n",
       "39148  UC7Iabt-Qo5I5c8-cnwTHiWg  EE0Ng8rikXc 2023-04-28   \n",
       "\n",
       "                                                   title  \\\n",
       "0      🔥ESTRENO🔥 15 REGLAS para HOMBRES 😎 Nacho Redon...   \n",
       "1                        Cuando Adidas te manda regalos.   \n",
       "600    La revancha con Irrael ¿quién fue el campeón d...   \n",
       "601    Entregados a EntreGrados EP 02 | Versión madre...   \n",
       "1074               Labias De Parrilla: Los Relojes | 021   \n",
       "...                                                  ...   \n",
       "38522                    ¿Cuánto costaría nuestro s3m3n?   \n",
       "38523                                    ¿Qué es un NPC?   \n",
       "38524                Quién es ADOPTADO en #escueladenada   \n",
       "38525              Ser CULERO por no compartir mi comida   \n",
       "39148              Labias De Parrilla: Los hoteles | 023   \n",
       "\n",
       "                                                   descr  duration  \n",
       "0      00:00:00 Introducción\\n00:01:27 Nacho Redondo ...      4506  \n",
       "1                                                    NaN        60  \n",
       "600    Esto se descontroló. Aún no nos recuperamos de...      4839  \n",
       "601    ¿Te imaginas beber con tu mamá? O al revés ¿be...      1262  \n",
       "1074   En este episodio hablamos del origen y el func...       855  \n",
       "...                                                  ...       ...  \n",
       "38522                                                NaN        42  \n",
       "38523                                                NaN        48  \n",
       "38524                                                NaN        43  \n",
       "38525                                                NaN        52  \n",
       "39148  En este episodio hablamos sobre los hoteles y ...       796  \n",
       "\n",
       "[93 rows x 6 columns]"
      ]
     },
     "execution_count": 7,
     "metadata": {},
     "output_type": "execute_result"
    }
   ],
   "source": [
    "# Get all the video_statics already in the DB to clean\n",
    "\n",
    "# Connect to the database\n",
    "cnx = mysql.connector.connect(host='localhost',\n",
    "                                        database='youtubeproject',\n",
    "                                        user='root',\n",
    "                                        password='optim123*')\n",
    "\n",
    "sql_query = \"\"\"SELECT video_id from video_statics\"\"\"\n",
    "frstatics = pd.read_sql(sql_query, cnx)\n",
    "vids_in_statics = frstatics['video_id'].to_list()\n",
    "\n",
    "cnx.close()\n",
    "\n",
    "# Filtering\n",
    "cleaning_mask = ~dump2['video_statics']['video_id'].isin( vids_in_statics )\n",
    "\n",
    "dump2['video_statics'] = dump2['video_statics'][cleaning_mask]\n",
    "#dump2['video_statics']"
   ]
  },
  {
   "cell_type": "code",
   "execution_count": 8,
   "metadata": {},
   "outputs": [],
   "source": [
    "# cleaning here instead on function\n",
    "dump2['video_statics']['title'] = dump2['video_statics']['title'].apply(remove_emojis).apply(remove_links_and_line_jumps).apply(remove_accents)\n",
    "dump2['video_statics']['descr'] = dump2['video_statics']['descr'].astype(str).apply(remove_emojis).apply(remove_links_and_line_jumps).apply(remove_accents)\n",
    "\n",
    "#dump2['video_statics']"
   ]
  },
  {
   "cell_type": "code",
   "execution_count": 9,
   "metadata": {},
   "outputs": [
    {
     "name": "stderr",
     "output_type": "stream",
     "text": [
      "d:\\Matematica\\Data Science\\_PersonalProjects\\EDN Dashboard\\uploadDB.py:117: UserWarning: pandas only supports SQLAlchemy connectable (engine/connection) or database string URI or sqlite3 DBAPI2 connection. Other DBAPI2 objects are not tested. Please consider using SQLAlchemy.\n",
      "  video_ids_in_db = pd.read_sql(\"SELECT video_id FROM video_statics\", cnx)['video_id'].to_list()\n"
     ]
    },
    {
     "name": "stdout",
     "output_type": "stream",
     "text": [
      "Inserting: video_statics...\n",
      "Inserted: video_statics\n",
      "Inserting: video_variables...\n",
      "Inserted: video_variables\n"
     ]
    }
   ],
   "source": [
    "video_tables_db_upload( dump2 )"
   ]
  },
  {
   "cell_type": "code",
   "execution_count": null,
   "metadata": {},
   "outputs": [],
   "source": []
  }
 ],
 "metadata": {
  "kernelspec": {
   "display_name": "base",
   "language": "python",
   "name": "python3"
  },
  "language_info": {
   "codemirror_mode": {
    "name": "ipython",
    "version": 3
   },
   "file_extension": ".py",
   "mimetype": "text/x-python",
   "name": "python",
   "nbconvert_exporter": "python",
   "pygments_lexer": "ipython3",
   "version": "3.11.2"
  },
  "orig_nbformat": 4,
  "vscode": {
   "interpreter": {
    "hash": "e46fe3d32c0241ff88d20caa6e4b6d17b62e00d50114aa50eeb2079f8857cc3c"
   }
  }
 },
 "nbformat": 4,
 "nbformat_minor": 2
}
